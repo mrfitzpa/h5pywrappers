{
 "cells": [
  {
   "cell_type": "markdown",
   "id": "6bb7f461",
   "metadata": {},
   "source": [
    "# Basic usage of the ``h5pywrappers`` library #"
   ]
  },
  {
   "cell_type": "markdown",
   "id": "5d6d9cd7",
   "metadata": {},
   "source": [
    "## A NOTE BEFORE STARTING ##"
   ]
  },
  {
   "cell_type": "markdown",
   "id": "880421e9",
   "metadata": {},
   "source": [
    "Since the ``h5pywrappers`` git repository tracks this notebook under its\n",
    "original basename ``basic-usage.ipynb``, we recommend that you copy the original\n",
    "notebook and rename it to any other basename that is not one of the original\n",
    "basenames that appear in the ``<root>/examples`` directory before executing any\n",
    "of the notebook cells below, where ``<root>`` is the root of the\n",
    "``h5pywrappers`` repository. This way you can explore the notebook by executing\n",
    "and modifying cells without changing the original notebook, which is being\n",
    "tracked by git."
   ]
  },
  {
   "cell_type": "markdown",
   "id": "12b0d90e",
   "metadata": {},
   "source": [
    "## Import necessary modules ##"
   ]
  },
  {
   "cell_type": "code",
   "execution_count": 1,
   "id": "e7f9787f",
   "metadata": {},
   "outputs": [],
   "source": [
    "# For general array handling and constructing random number generators.\n",
    "import numpy as np\n",
    "\n",
    "\n",
    "\n",
    "# The library that is the subject of this demonstration.\n",
    "import h5pywrappers"
   ]
  },
  {
   "cell_type": "markdown",
   "id": "e667d633",
   "metadata": {},
   "source": [
    "## Introduction ##"
   ]
  },
  {
   "cell_type": "markdown",
   "id": "ec7f2509",
   "metadata": {},
   "source": [
    "In this notebook, we demonstrate how one can use each function and class in the\n",
    "``h5pywrappers`` library.\n",
    "\n",
    "You can find the documentation for the ``h5pywrappers`` library\n",
    "[here](https://mrfitzpa.github.io/h5pywrappers/_build/html/_autosummary/h5pywrappers.html).\n",
    "It is recommended that you consult the documentation of this library as you\n",
    "explore the notebook. Moreover, users should execute the cells in the order that\n",
    "they appear, i.e. from top to bottom, as some cells reference variables that are\n",
    "set in other cells above them."
   ]
  },
  {
   "cell_type": "markdown",
   "id": "ee0993ba",
   "metadata": {},
   "source": [
    "## Using the ``h5pywrappers.`` function ##"
   ]
  },
  {
   "cell_type": "markdown",
   "id": "21a2529c",
   "metadata": {},
   "source": [
    "Insert text here."
   ]
  },
  {
   "cell_type": "code",
   "execution_count": 2,
   "id": "5bdd09c4",
   "metadata": {},
   "outputs": [],
   "source": [
    "# Insert code here."
   ]
  },
  {
   "cell_type": "code",
   "execution_count": 3,
   "id": "9c822769",
   "metadata": {},
   "outputs": [],
   "source": [
    "h5pywrappers.file.generator_1(\"foo.h5\", overwrite=True)"
   ]
  },
  {
   "cell_type": "code",
   "execution_count": 4,
   "id": "d7b8820d",
   "metadata": {},
   "outputs": [],
   "source": [
    "filename = \"foo.py\"\n",
    "path_in_file = \"group-1-A\"\n",
    "obj_id = h5pywrappers.obj.ID(filename, path_in_file)"
   ]
  },
  {
   "cell_type": "code",
   "execution_count": 5,
   "id": "f1e1f8dc",
   "metadata": {},
   "outputs": [],
   "source": [
    "obj = h5pywrappers.obj.load(obj_id)"
   ]
  },
  {
   "cell_type": "code",
   "execution_count": 6,
   "id": "7d12cd99",
   "metadata": {},
   "outputs": [
    {
     "data": {
      "text/plain": [
       "<KeysViewHDF5 ['dataset-1-A', 'scalar-1-A']>"
      ]
     },
     "execution_count": 6,
     "metadata": {},
     "output_type": "execute_result"
    }
   ],
   "source": [
    "obj.keys()"
   ]
  },
  {
   "cell_type": "code",
   "execution_count": 7,
   "id": "7a44eeb6",
   "metadata": {},
   "outputs": [
    {
     "data": {
      "text/plain": [
       "<HDF5 dataset \"scalar-1-A\": shape (), type \"<f8\">"
      ]
     },
     "execution_count": 7,
     "metadata": {},
     "output_type": "execute_result"
    }
   ],
   "source": [
    "obj['scalar-1-A']"
   ]
  },
  {
   "cell_type": "code",
   "execution_count": 8,
   "id": "379c79e0",
   "metadata": {},
   "outputs": [],
   "source": [
    "filename = \"foo.py\"\n",
    "path_in_file = \"group-1-A/scalar-1-A\"\n",
    "scalar_id = h5pywrappers.obj.ID(filename, path_in_file)"
   ]
  },
  {
   "cell_type": "code",
   "execution_count": 9,
   "id": "84430bd1",
   "metadata": {},
   "outputs": [],
   "source": [
    "scalar = h5pywrappers.scalar.load(scalar_id)"
   ]
  },
  {
   "cell_type": "code",
   "execution_count": 10,
   "id": "5767af8a",
   "metadata": {},
   "outputs": [
    {
     "data": {
      "text/plain": [
       "0.5"
      ]
     },
     "execution_count": 10,
     "metadata": {},
     "output_type": "execute_result"
    }
   ],
   "source": [
    "scalar"
   ]
  },
  {
   "cell_type": "code",
   "execution_count": 11,
   "id": "94032fff",
   "metadata": {},
   "outputs": [],
   "source": [
    "filename = \"foo.py\"\n",
    "path_in_file = \"group-1-A/dataset-1-A\"\n",
    "dataset_id = h5pywrappers.obj.ID(filename, path_in_file)"
   ]
  },
  {
   "cell_type": "code",
   "execution_count": 12,
   "id": "51df3a21",
   "metadata": {},
   "outputs": [],
   "source": [
    "dataset = h5pywrappers.dataset.load(dataset_id)"
   ]
  },
  {
   "cell_type": "code",
   "execution_count": 13,
   "id": "36c7e163",
   "metadata": {},
   "outputs": [
    {
     "data": {
      "text/plain": [
       "<HDF5 dataset \"dataset-1-A\": shape (12, 9, 128, 150), type \"<f8\">"
      ]
     },
     "execution_count": 13,
     "metadata": {},
     "output_type": "execute_result"
    }
   ],
   "source": [
    "dataset"
   ]
  },
  {
   "cell_type": "code",
   "execution_count": 14,
   "id": "35839beb",
   "metadata": {},
   "outputs": [],
   "source": [
    "attr_name = \"was_randomly_generated\"\n",
    "attr_id = h5pywrappers.attr.ID(obj_id=dataset_id, \n",
    "                               attr_name=attr_name)"
   ]
  },
  {
   "cell_type": "code",
   "execution_count": 15,
   "id": "1ce0f61b",
   "metadata": {},
   "outputs": [],
   "source": [
    "attr = h5pywrappers.attr.load(attr_id)"
   ]
  },
  {
   "cell_type": "code",
   "execution_count": 16,
   "id": "9ddae0ac",
   "metadata": {},
   "outputs": [
    {
     "data": {
      "text/plain": [
       "True"
      ]
     },
     "execution_count": 16,
     "metadata": {},
     "output_type": "execute_result"
    }
   ],
   "source": [
    "attr"
   ]
  },
  {
   "cell_type": "code",
   "execution_count": 18,
   "id": "f811abca",
   "metadata": {},
   "outputs": [],
   "source": [
    "filename = \"foo.py\"\n",
    "path_in_file = \"group-1-B/json-document-1-B\"\n",
    "json_document_id = h5pywrappers.obj.ID(filename, path_in_file)"
   ]
  },
  {
   "cell_type": "code",
   "execution_count": 19,
   "id": "fbf40539",
   "metadata": {},
   "outputs": [],
   "source": [
    "json_document = h5pywrappers.json.document.load(json_document_id)"
   ]
  },
  {
   "cell_type": "code",
   "execution_count": 20,
   "id": "5c37e4a4",
   "metadata": {},
   "outputs": [
    {
     "data": {
      "text/plain": [
       "{'a': 1, 'b': 2, 'c': 3}"
      ]
     },
     "execution_count": 20,
     "metadata": {},
     "output_type": "execute_result"
    }
   ],
   "source": [
    "json_document"
   ]
  },
  {
   "cell_type": "code",
   "execution_count": 21,
   "id": "bcd4ee28",
   "metadata": {},
   "outputs": [
    {
     "data": {
      "text/plain": [
       "<HDF5 group \"/group-1-A\" (2 members)>"
      ]
     },
     "execution_count": 21,
     "metadata": {},
     "output_type": "execute_result"
    }
   ],
   "source": [
    "obj"
   ]
  },
  {
   "cell_type": "code",
   "execution_count": 22,
   "id": "0c256588",
   "metadata": {},
   "outputs": [
    {
     "data": {
      "text/plain": [
       "<HDF5 dataset \"dataset-1-A\": shape (12, 9, 128, 150), type \"<f8\">"
      ]
     },
     "execution_count": 22,
     "metadata": {},
     "output_type": "execute_result"
    }
   ],
   "source": [
    "dataset"
   ]
  },
  {
   "cell_type": "code",
   "execution_count": 23,
   "id": "58c61baf",
   "metadata": {},
   "outputs": [],
   "source": [
    "del obj"
   ]
  },
  {
   "cell_type": "code",
   "execution_count": 24,
   "id": "fa46d42f",
   "metadata": {},
   "outputs": [
    {
     "data": {
      "text/plain": [
       "<HDF5 dataset \"dataset-1-A\": shape (12, 9, 128, 150), type \"<f8\">"
      ]
     },
     "execution_count": 24,
     "metadata": {},
     "output_type": "execute_result"
    }
   ],
   "source": [
    "dataset"
   ]
  },
  {
   "cell_type": "code",
   "execution_count": 25,
   "id": "c90dc4a1",
   "metadata": {},
   "outputs": [],
   "source": [
    "del dataset"
   ]
  },
  {
   "cell_type": "code",
   "execution_count": null,
   "id": "4bb1380a",
   "metadata": {},
   "outputs": [],
   "source": []
  }
 ],
 "metadata": {
  "kernelspec": {
   "display_name": "Python 3 (ipykernel)",
   "language": "python",
   "name": "python3"
  },
  "language_info": {
   "codemirror_mode": {
    "name": "ipython",
    "version": 3
   },
   "file_extension": ".py",
   "mimetype": "text/x-python",
   "name": "python",
   "nbconvert_exporter": "python",
   "pygments_lexer": "ipython3",
   "version": "3.9.0"
  }
 },
 "nbformat": 4,
 "nbformat_minor": 5
}
