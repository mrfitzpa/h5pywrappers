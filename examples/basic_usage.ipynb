{
 "cells": [
  {
   "cell_type": "markdown",
   "id": "6bb7f461",
   "metadata": {},
   "source": [
    "# Basic usage of the ``h5pywrappers`` library #"
   ]
  },
  {
   "cell_type": "markdown",
   "id": "5d6d9cd7",
   "metadata": {},
   "source": [
    "## A NOTE BEFORE STARTING ##"
   ]
  },
  {
   "cell_type": "markdown",
   "id": "880421e9",
   "metadata": {},
   "source": [
    "Since the ``h5pywrappers`` git repository tracks this notebook under its\n",
    "original basename ``basic_usage.ipynb``, we recommend that you copy the original\n",
    "notebook and rename it to any other basename that is not one of the original\n",
    "basenames that appear in the ``<root>/examples`` directory before executing any\n",
    "of the notebook cells below, where ``<root>`` is the root of the\n",
    "``h5pywrappers`` repository. This way you can explore the notebook by executing\n",
    "and modifying cells without changing the original notebook, which is being\n",
    "tracked by git."
   ]
  },
  {
   "cell_type": "markdown",
   "id": "12b0d90e",
   "metadata": {},
   "source": [
    "## Import necessary modules ##"
   ]
  },
  {
   "cell_type": "code",
   "execution_count": 1,
   "id": "e7f9787f",
   "metadata": {},
   "outputs": [],
   "source": [
    "# For general array handling and constructing random number generators.\n",
    "import numpy as np\n",
    "\n",
    "import h5py\n",
    "\n",
    "\n",
    "\n",
    "# The library that is the subject of this demonstration.\n",
    "import h5pywrappers"
   ]
  },
  {
   "cell_type": "markdown",
   "id": "e667d633",
   "metadata": {},
   "source": [
    "## Introduction ##"
   ]
  },
  {
   "cell_type": "markdown",
   "id": "ec7f2509",
   "metadata": {},
   "source": [
    "In this notebook, we demonstrate how one can use each function and class in the\n",
    "``h5pywrappers`` library.\n",
    "\n",
    "You can find the documentation for the ``h5pywrappers`` library\n",
    "[here](https://mrfitzpa.github.io/h5pywrappers/_build/html/_autosummary/h5pywrappers.html).\n",
    "It is recommended that you consult the documentation of this library as you\n",
    "explore the notebook. Moreover, users should execute the cells in the order that\n",
    "they appear, i.e. from top to bottom, as some cells reference variables that are\n",
    "set in other cells above them."
   ]
  },
  {
   "cell_type": "markdown",
   "id": "ee0993ba",
   "metadata": {},
   "source": [
    "## Using the ``h5pywrappers`` function ##"
   ]
  },
  {
   "cell_type": "markdown",
   "id": "21a2529c",
   "metadata": {},
   "source": [
    "Insert text here."
   ]
  },
  {
   "cell_type": "code",
   "execution_count": 2,
   "id": "2afe3297",
   "metadata": {},
   "outputs": [],
   "source": [
    "filename = \"bar.h5\"\n",
    "path_in_file = \"group-2-C\"\n",
    "group_id = h5pywrappers.obj.ID(filename, path_in_file)"
   ]
  },
  {
   "cell_type": "code",
   "execution_count": 3,
   "id": "5e44739a",
   "metadata": {},
   "outputs": [],
   "source": [
    "group = h5pywrappers.group.load(group_id, read_only=True)"
   ]
  },
  {
   "cell_type": "code",
   "execution_count": 4,
   "id": "69010891",
   "metadata": {},
   "outputs": [
    {
     "data": {
      "text/plain": [
       "<KeysViewHDF5 ['group-2-C']>"
      ]
     },
     "execution_count": 4,
     "metadata": {},
     "output_type": "execute_result"
    }
   ],
   "source": [
    "group.file.keys()"
   ]
  },
  {
   "cell_type": "code",
   "execution_count": 5,
   "id": "fee00305",
   "metadata": {},
   "outputs": [],
   "source": [
    "group.file.close()"
   ]
  },
  {
   "cell_type": "code",
   "execution_count": 6,
   "id": "70f75db1",
   "metadata": {},
   "outputs": [],
   "source": [
    "filename = \"bar.h5\"\n",
    "path_in_file = \"group-2-D\"\n",
    "group_id = h5pywrappers.obj.ID(filename, path_in_file)"
   ]
  },
  {
   "cell_type": "code",
   "execution_count": 7,
   "id": "f29c699d",
   "metadata": {},
   "outputs": [
    {
     "ename": "TypeError",
     "evalue": "isinstance() arg 2 must be a type or tuple of types",
     "output_type": "error",
     "traceback": [
      "\u001b[0;31m---------------------------------------------------------------------------\u001b[0m",
      "\u001b[0;31mTypeError\u001b[0m                                 Traceback (most recent call last)",
      "Input \u001b[0;32mIn [7]\u001b[0m, in \u001b[0;36m<cell line: 1>\u001b[0;34m()\u001b[0m\n\u001b[0;32m----> 1\u001b[0m \u001b[43mh5pywrappers\u001b[49m\u001b[38;5;241;43m.\u001b[39;49m\u001b[43mgroup\u001b[49m\u001b[38;5;241;43m.\u001b[39;49m\u001b[43msave\u001b[49m\u001b[43m(\u001b[49m\u001b[38;5;28;43;01mNone\u001b[39;49;00m\u001b[43m,\u001b[49m\u001b[43m \u001b[49m\u001b[43mgroup_id\u001b[49m\u001b[43m,\u001b[49m\u001b[43m \u001b[49m\u001b[43mwrite_mode\u001b[49m\u001b[38;5;241;43m=\u001b[39;49m\u001b[38;5;124;43m\"\u001b[39;49m\u001b[38;5;124;43ma\u001b[39;49m\u001b[38;5;124;43m\"\u001b[39;49m\u001b[43m)\u001b[49m\n",
      "File \u001b[0;32m~/anaconda3/envs/emicro/lib/python3.9/site-packages/h5pywrappers/group.py:152\u001b[0m, in \u001b[0;36msave\u001b[0;34m(group, group_id, write_mode)\u001b[0m\n\u001b[1;32m    123\u001b[0m \u001b[38;5;28;01mdef\u001b[39;00m \u001b[38;5;21msave\u001b[39m(group, group_id, write_mode\u001b[38;5;241m=\u001b[39m\u001b[38;5;124m\"\u001b[39m\u001b[38;5;124mw-\u001b[39m\u001b[38;5;124m\"\u001b[39m):\n\u001b[1;32m    124\u001b[0m     \u001b[38;5;124mr\u001b[39m\u001b[38;5;124;03m\"\"\"Save an HDF5 group to an HDF5 file.\u001b[39;00m\n\u001b[1;32m    125\u001b[0m \n\u001b[1;32m    126\u001b[0m \u001b[38;5;124;03m    Parameters\u001b[39;00m\n\u001b[0;32m   (...)\u001b[0m\n\u001b[1;32m    150\u001b[0m \n\u001b[1;32m    151\u001b[0m \u001b[38;5;124;03m    \"\"\"\u001b[39;00m\n\u001b[0;32m--> 152\u001b[0m     group, write_mode \u001b[38;5;241m=\u001b[39m \u001b[43m_pre_save\u001b[49m\u001b[43m(\u001b[49m\u001b[43mgroup\u001b[49m\u001b[43m,\u001b[49m\u001b[43m \u001b[49m\u001b[43mgroup_id\u001b[49m\u001b[43m,\u001b[49m\u001b[43m \u001b[49m\u001b[43mwrite_mode\u001b[49m\u001b[43m)\u001b[49m\n\u001b[1;32m    154\u001b[0m     filename \u001b[38;5;241m=\u001b[39m group_id\u001b[38;5;241m.\u001b[39mcore_attrs[\u001b[38;5;124m\"\u001b[39m\u001b[38;5;124mfilename\u001b[39m\u001b[38;5;124m\"\u001b[39m]\n\u001b[1;32m    155\u001b[0m     path_in_file \u001b[38;5;241m=\u001b[39m group_id\u001b[38;5;241m.\u001b[39mcore_attrs[\u001b[38;5;124m\"\u001b[39m\u001b[38;5;124mpath_in_file\u001b[39m\u001b[38;5;124m\"\u001b[39m]\n",
      "File \u001b[0;32m~/anaconda3/envs/emicro/lib/python3.9/site-packages/h5pywrappers/group.py:174\u001b[0m, in \u001b[0;36m_pre_save\u001b[0;34m(group, group_id, write_mode)\u001b[0m\n\u001b[1;32m    170\u001b[0m \u001b[38;5;28;01mdef\u001b[39;00m \u001b[38;5;21m_pre_save\u001b[39m(group, group_id, write_mode):\n\u001b[1;32m    171\u001b[0m     kwargs \u001b[38;5;241m=\u001b[39m {\u001b[38;5;124m\"\u001b[39m\u001b[38;5;124mobj\u001b[39m\u001b[38;5;124m\"\u001b[39m: group,\n\u001b[1;32m    172\u001b[0m               \u001b[38;5;124m\"\u001b[39m\u001b[38;5;124mobj_name\u001b[39m\u001b[38;5;124m\"\u001b[39m: \u001b[38;5;124m\"\u001b[39m\u001b[38;5;124mgroup\u001b[39m\u001b[38;5;124m\"\u001b[39m,\n\u001b[1;32m    173\u001b[0m               \u001b[38;5;124m\"\u001b[39m\u001b[38;5;124maccepted_types\u001b[39m\u001b[38;5;124m\"\u001b[39m: (h5py\u001b[38;5;241m.\u001b[39m_hl\u001b[38;5;241m.\u001b[39mgroup\u001b[38;5;241m.\u001b[39mGroup, \u001b[38;5;28;01mNone\u001b[39;00m)}\n\u001b[0;32m--> 174\u001b[0m     \u001b[43mczekitout\u001b[49m\u001b[38;5;241;43m.\u001b[39;49m\u001b[43mcheck\u001b[49m\u001b[38;5;241;43m.\u001b[39;49m\u001b[43mif_instance_of_any_accepted_types\u001b[49m\u001b[43m(\u001b[49m\u001b[38;5;241;43m*\u001b[39;49m\u001b[38;5;241;43m*\u001b[39;49m\u001b[43mkwargs\u001b[49m\u001b[43m)\u001b[49m\n\u001b[1;32m    176\u001b[0m     write_mode \u001b[38;5;241m=\u001b[39m czekitout\u001b[38;5;241m.\u001b[39mconvert\u001b[38;5;241m.\u001b[39mto_str_from_str_like(obj\u001b[38;5;241m=\u001b[39mwrite_mode,\n\u001b[1;32m    177\u001b[0m                                                         obj_name\u001b[38;5;241m=\u001b[39m\u001b[38;5;124m\"\u001b[39m\u001b[38;5;124mwrite_mode\u001b[39m\u001b[38;5;124m\"\u001b[39m)\n\u001b[1;32m    178\u001b[0m     accepted_values \u001b[38;5;241m=\u001b[39m (\u001b[38;5;124m\"\u001b[39m\u001b[38;5;124mw\u001b[39m\u001b[38;5;124m\"\u001b[39m, \u001b[38;5;124m\"\u001b[39m\u001b[38;5;124mw-\u001b[39m\u001b[38;5;124m\"\u001b[39m, \u001b[38;5;124m\"\u001b[39m\u001b[38;5;124ma\u001b[39m\u001b[38;5;124m\"\u001b[39m, \u001b[38;5;124m\"\u001b[39m\u001b[38;5;124ma-\u001b[39m\u001b[38;5;124m\"\u001b[39m)\n",
      "File \u001b[0;32m~/anaconda3/envs/emicro/lib/python3.9/site-packages/czekitout/check.py:112\u001b[0m, in \u001b[0;36mif_instance_of_any_accepted_types\u001b[0;34m(obj, obj_name, accepted_types)\u001b[0m\n\u001b[1;32m     80\u001b[0m \u001b[38;5;28;01mdef\u001b[39;00m \u001b[38;5;21mif_instance_of_any_accepted_types\u001b[39m(obj, obj_name, accepted_types):\n\u001b[1;32m     81\u001b[0m     \u001b[38;5;124mr\u001b[39m\u001b[38;5;124;03m\"\"\"Check whether input object is one of any given accepted types.\u001b[39;00m\n\u001b[1;32m     82\u001b[0m \n\u001b[1;32m     83\u001b[0m \u001b[38;5;124;03m    If the input object is not one of any given accepted type, and \u001b[39;00m\n\u001b[0;32m   (...)\u001b[0m\n\u001b[1;32m    110\u001b[0m \n\u001b[1;32m    111\u001b[0m \u001b[38;5;124;03m    \"\"\"\u001b[39;00m\n\u001b[0;32m--> 112\u001b[0m     \u001b[38;5;28;01mif\u001b[39;00m \u001b[38;5;129;01mnot\u001b[39;00m \u001b[38;5;28;43misinstance\u001b[39;49m\u001b[43m(\u001b[49m\u001b[43mobj\u001b[49m\u001b[43m,\u001b[49m\u001b[43m \u001b[49m\u001b[43maccepted_types\u001b[49m\u001b[43m)\u001b[49m:\n\u001b[1;32m    113\u001b[0m         fully_qualified_class_name \u001b[38;5;241m=\u001b[39m \\\n\u001b[1;32m    114\u001b[0m             czekitout\u001b[38;5;241m.\u001b[39mname\u001b[38;5;241m.\u001b[39mfully_qualified_class_name \u001b[38;5;66;03m# Alias for readability.\u001b[39;00m\n\u001b[1;32m    115\u001b[0m         names_of_accepted_types \u001b[38;5;241m=\u001b[39m \\\n\u001b[1;32m    116\u001b[0m             \u001b[38;5;28mtuple\u001b[39m(fully_qualified_class_name(accepted_type)\n\u001b[1;32m    117\u001b[0m                   \u001b[38;5;28;01mfor\u001b[39;00m accepted_type \u001b[38;5;129;01min\u001b[39;00m accepted_types)\n",
      "\u001b[0;31mTypeError\u001b[0m: isinstance() arg 2 must be a type or tuple of types"
     ]
    }
   ],
   "source": [
    "h5pywrappers.group.save(None, group_id, write_mode=\"a\")"
   ]
  },
  {
   "cell_type": "code",
   "execution_count": null,
   "id": "aa6bff7d",
   "metadata": {},
   "outputs": [],
   "source": []
  },
  {
   "cell_type": "code",
   "execution_count": 35,
   "id": "a9e57b95",
   "metadata": {},
   "outputs": [
    {
     "data": {
      "text/plain": [
       "h5py._hl.dataset.Dataset"
      ]
     },
     "execution_count": 35,
     "metadata": {},
     "output_type": "execute_result"
    }
   ],
   "source": [
    "h5py.Dataset"
   ]
  },
  {
   "cell_type": "code",
   "execution_count": 32,
   "id": "d80874b5",
   "metadata": {},
   "outputs": [],
   "source": [
    "h5pywrappers.file.generator_1(\"foo.h5\", overwrite=True)\n",
    "h5pywrappers.file.generator_2(\"bar.h5\", overwrite=True)"
   ]
  },
  {
   "cell_type": "code",
   "execution_count": 3,
   "id": "d1e6345c",
   "metadata": {},
   "outputs": [],
   "source": [
    "filename = \"foo.h5\"\n",
    "path_in_file = \"group-1-A/dataset-1-A\"\n",
    "dataset_id = h5pywrappers.obj.ID(filename, path_in_file)"
   ]
  },
  {
   "cell_type": "code",
   "execution_count": 4,
   "id": "f4d87aa4",
   "metadata": {},
   "outputs": [],
   "source": [
    "dataset = h5pywrappers.dataset.load(dataset_id, read_only=True)"
   ]
  },
  {
   "cell_type": "code",
   "execution_count": 5,
   "id": "a85a2e76",
   "metadata": {},
   "outputs": [
    {
     "data": {
      "text/plain": [
       "<HDF5 dataset \"dataset-1-A\": shape (12, 9, 128, 150), type \"<f8\">"
      ]
     },
     "execution_count": 5,
     "metadata": {},
     "output_type": "execute_result"
    }
   ],
   "source": [
    "dataset"
   ]
  },
  {
   "cell_type": "code",
   "execution_count": 6,
   "id": "c930d299",
   "metadata": {},
   "outputs": [],
   "source": [
    "dataset.file.close()"
   ]
  },
  {
   "cell_type": "code",
   "execution_count": 7,
   "id": "f764b3ad",
   "metadata": {},
   "outputs": [],
   "source": [
    "multi_dim_slice = (0, slice(None, None, -2), [120, -50], 5)"
   ]
  },
  {
   "cell_type": "code",
   "execution_count": 8,
   "id": "a4d65b86",
   "metadata": {},
   "outputs": [],
   "source": [
    "datasubset_id = h5pywrappers.datasubset.ID(dataset_id, \n",
    "                                           multi_dim_slice)"
   ]
  },
  {
   "cell_type": "code",
   "execution_count": 30,
   "id": "8401c57b",
   "metadata": {},
   "outputs": [],
   "source": [
    "datasubset = h5pywrappers.datasubset.load(datasubset_id)"
   ]
  },
  {
   "cell_type": "code",
   "execution_count": 31,
   "id": "06329fc2",
   "metadata": {},
   "outputs": [
    {
     "data": {
      "text/plain": [
       "array([[0.28919873, 0.56922889],\n",
       "       [0.34056206, 0.56448673],\n",
       "       [0.96827591, 0.34958929],\n",
       "       [0.69597617, 0.82573635],\n",
       "       [0.6956494 , 0.92554344]])"
      ]
     },
     "execution_count": 31,
     "metadata": {},
     "output_type": "execute_result"
    }
   ],
   "source": [
    "datasubset"
   ]
  },
  {
   "cell_type": "code",
   "execution_count": 20,
   "id": "ac7bb67a",
   "metadata": {},
   "outputs": [],
   "source": [
    "dataset = h5pywrappers.dataset.load(dataset_id, read_only=True)"
   ]
  },
  {
   "cell_type": "code",
   "execution_count": 21,
   "id": "cdb660e9",
   "metadata": {},
   "outputs": [
    {
     "data": {
      "text/plain": [
       "array([[0.74632253, 0.70194711],\n",
       "       [0.38910626, 0.12371782],\n",
       "       [0.85950058, 0.83769564],\n",
       "       [0.5411634 , 0.92919001],\n",
       "       [0.01421658, 0.55301119]])"
      ]
     },
     "execution_count": 21,
     "metadata": {},
     "output_type": "execute_result"
    }
   ],
   "source": [
    "dataset[(0, slice(None, None, 2), [2, 125], 5)]"
   ]
  },
  {
   "cell_type": "code",
   "execution_count": 22,
   "id": "90e4e4e1",
   "metadata": {},
   "outputs": [],
   "source": [
    "dataset.file.close()"
   ]
  },
  {
   "cell_type": "code",
   "execution_count": 27,
   "id": "633d6b8e",
   "metadata": {},
   "outputs": [],
   "source": [
    "test_shape = datasubset.shape\n",
    "test = np.random.rand(*test_shape)"
   ]
  },
  {
   "cell_type": "code",
   "execution_count": 28,
   "id": "14416549",
   "metadata": {},
   "outputs": [
    {
     "data": {
      "text/plain": [
       "array([[0.28919873, 0.56922889],\n",
       "       [0.34056206, 0.56448673],\n",
       "       [0.96827591, 0.34958929],\n",
       "       [0.69597617, 0.82573635],\n",
       "       [0.6956494 , 0.92554344]])"
      ]
     },
     "execution_count": 28,
     "metadata": {},
     "output_type": "execute_result"
    }
   ],
   "source": [
    "test"
   ]
  },
  {
   "cell_type": "code",
   "execution_count": 29,
   "id": "25d1c4bf",
   "metadata": {},
   "outputs": [],
   "source": [
    "h5pywrappers.datasubset.save(test, datasubset_id)"
   ]
  },
  {
   "cell_type": "code",
   "execution_count": null,
   "id": "d29163b6",
   "metadata": {},
   "outputs": [],
   "source": []
  },
  {
   "cell_type": "code",
   "execution_count": null,
   "id": "063beb5f",
   "metadata": {},
   "outputs": [],
   "source": []
  },
  {
   "cell_type": "code",
   "execution_count": 40,
   "id": "34d38fc4",
   "metadata": {},
   "outputs": [],
   "source": [
    "filename = \"foo.h5\"\n",
    "path_in_file = \"group-1-A/test-dataset\"\n",
    "obj_id = h5pywrappers.obj.ID(filename, path_in_file)\n",
    "\n",
    "obj = h5pywrappers.obj.load(obj_id, read_only=True)"
   ]
  },
  {
   "cell_type": "code",
   "execution_count": 43,
   "id": "4d6d0f6b",
   "metadata": {},
   "outputs": [],
   "source": [
    "obj.file.close()"
   ]
  },
  {
   "cell_type": "code",
   "execution_count": 42,
   "id": "a42479b1",
   "metadata": {},
   "outputs": [
    {
     "ename": "OSError",
     "evalue": "Can't write data (no write intent on file)",
     "output_type": "error",
     "traceback": [
      "\u001b[0;31m---------------------------------------------------------------------------\u001b[0m",
      "\u001b[0;31mOSError\u001b[0m                                   Traceback (most recent call last)",
      "Input \u001b[0;32mIn [42]\u001b[0m, in \u001b[0;36m<cell line: 1>\u001b[0;34m()\u001b[0m\n\u001b[0;32m----> 1\u001b[0m \u001b[43mobj\u001b[49m\u001b[43m[\u001b[49m\u001b[38;5;241;43m3\u001b[39;49m\u001b[43m]\u001b[49m \u001b[38;5;241m=\u001b[39m \u001b[38;5;241m-\u001b[39m\u001b[38;5;241m10\u001b[39m\n",
      "File \u001b[0;32mh5py/_objects.pyx:54\u001b[0m, in \u001b[0;36mh5py._objects.with_phil.wrapper\u001b[0;34m()\u001b[0m\n",
      "File \u001b[0;32mh5py/_objects.pyx:55\u001b[0m, in \u001b[0;36mh5py._objects.with_phil.wrapper\u001b[0;34m()\u001b[0m\n",
      "File \u001b[0;32m~/anaconda3/envs/emicro/lib/python3.9/site-packages/h5py/_hl/dataset.py:982\u001b[0m, in \u001b[0;36mDataset.__setitem__\u001b[0;34m(self, args, val)\u001b[0m\n\u001b[1;32m    980\u001b[0m mspace \u001b[38;5;241m=\u001b[39m h5s\u001b[38;5;241m.\u001b[39mcreate_simple(selection\u001b[38;5;241m.\u001b[39mexpand_shape(mshape))\n\u001b[1;32m    981\u001b[0m \u001b[38;5;28;01mfor\u001b[39;00m fspace \u001b[38;5;129;01min\u001b[39;00m selection\u001b[38;5;241m.\u001b[39mbroadcast(mshape):\n\u001b[0;32m--> 982\u001b[0m     \u001b[38;5;28;43mself\u001b[39;49m\u001b[38;5;241;43m.\u001b[39;49m\u001b[43mid\u001b[49m\u001b[38;5;241;43m.\u001b[39;49m\u001b[43mwrite\u001b[49m\u001b[43m(\u001b[49m\u001b[43mmspace\u001b[49m\u001b[43m,\u001b[49m\u001b[43m \u001b[49m\u001b[43mfspace\u001b[49m\u001b[43m,\u001b[49m\u001b[43m \u001b[49m\u001b[43mval\u001b[49m\u001b[43m,\u001b[49m\u001b[43m \u001b[49m\u001b[43mmtype\u001b[49m\u001b[43m,\u001b[49m\u001b[43m \u001b[49m\u001b[43mdxpl\u001b[49m\u001b[38;5;241;43m=\u001b[39;49m\u001b[38;5;28;43mself\u001b[39;49m\u001b[38;5;241;43m.\u001b[39;49m\u001b[43m_dxpl\u001b[49m\u001b[43m)\u001b[49m\n",
      "File \u001b[0;32mh5py/_objects.pyx:54\u001b[0m, in \u001b[0;36mh5py._objects.with_phil.wrapper\u001b[0;34m()\u001b[0m\n",
      "File \u001b[0;32mh5py/_objects.pyx:55\u001b[0m, in \u001b[0;36mh5py._objects.with_phil.wrapper\u001b[0;34m()\u001b[0m\n",
      "File \u001b[0;32mh5py/h5d.pyx:232\u001b[0m, in \u001b[0;36mh5py.h5d.DatasetID.write\u001b[0;34m()\u001b[0m\n",
      "File \u001b[0;32mh5py/_proxy.pyx:114\u001b[0m, in \u001b[0;36mh5py._proxy.dset_rw\u001b[0;34m()\u001b[0m\n",
      "\u001b[0;31mOSError\u001b[0m: Can't write data (no write intent on file)"
     ]
    }
   ],
   "source": [
    "obj[3] = -10"
   ]
  },
  {
   "cell_type": "code",
   "execution_count": null,
   "id": "bb14a02f",
   "metadata": {},
   "outputs": [],
   "source": []
  },
  {
   "cell_type": "code",
   "execution_count": 56,
   "id": "74521b53",
   "metadata": {},
   "outputs": [],
   "source": [
    "filename = \"bar.h5\"\n",
    "path_in_file = \"group-2-A/dataset-2-A\"\n",
    "dataset_id = h5pywrappers.obj.ID(filename, path_in_file)"
   ]
  },
  {
   "cell_type": "code",
   "execution_count": 57,
   "id": "62a68404",
   "metadata": {},
   "outputs": [],
   "source": [
    "dataset = h5pywrappers.dataset.load(dataset_id, read_only=False)"
   ]
  },
  {
   "cell_type": "code",
   "execution_count": 58,
   "id": "e83e77c4",
   "metadata": {},
   "outputs": [
    {
     "data": {
      "text/plain": [
       "array([0, 1, 2, 3, 4, 5, 6, 7, 8, 9])"
      ]
     },
     "execution_count": 58,
     "metadata": {},
     "output_type": "execute_result"
    }
   ],
   "source": [
    "dataset[:]"
   ]
  },
  {
   "cell_type": "code",
   "execution_count": 20,
   "id": "07beb521",
   "metadata": {},
   "outputs": [
    {
     "data": {
      "text/plain": [
       "dtype('int64')"
      ]
     },
     "execution_count": 20,
     "metadata": {},
     "output_type": "execute_result"
    }
   ],
   "source": [
    "np.arange(10).dtype"
   ]
  },
  {
   "cell_type": "code",
   "execution_count": 45,
   "id": "4addaa05",
   "metadata": {},
   "outputs": [],
   "source": [
    "test = np.random.rand(3, 4, 2)"
   ]
  },
  {
   "cell_type": "code",
   "execution_count": 48,
   "id": "c56df47b",
   "metadata": {},
   "outputs": [
    {
     "data": {
      "text/plain": [
       "0"
      ]
     },
     "execution_count": 48,
     "metadata": {},
     "output_type": "execute_result"
    }
   ],
   "source": [
    "test.flat[0].astype(dataset.dtype)"
   ]
  },
  {
   "cell_type": "code",
   "execution_count": 34,
   "id": "3b8b5116",
   "metadata": {},
   "outputs": [
    {
     "data": {
      "text/plain": [
       "0.633329018184781"
      ]
     },
     "execution_count": 34,
     "metadata": {},
     "output_type": "execute_result"
    }
   ],
   "source": [
    "test.flat[0]"
   ]
  },
  {
   "cell_type": "code",
   "execution_count": 59,
   "id": "5d2b5979",
   "metadata": {},
   "outputs": [
    {
     "data": {
      "text/plain": [
       "dtype('int64')"
      ]
     },
     "execution_count": 59,
     "metadata": {},
     "output_type": "execute_result"
    }
   ],
   "source": [
    "dataset.dtype"
   ]
  },
  {
   "cell_type": "code",
   "execution_count": 69,
   "id": "e52e08ff",
   "metadata": {},
   "outputs": [
    {
     "data": {
      "text/plain": [
       "dtype('complex128')"
      ]
     },
     "execution_count": 69,
     "metadata": {},
     "output_type": "execute_result"
    }
   ],
   "source": [
    "(1.2j*np.arange(3)).dtype"
   ]
  },
  {
   "cell_type": "code",
   "execution_count": 70,
   "id": "b4140f2c",
   "metadata": {},
   "outputs": [
    {
     "data": {
      "text/plain": [
       "OSError('Hello world')"
      ]
     },
     "execution_count": 70,
     "metadata": {},
     "output_type": "execute_result"
    }
   ],
   "source": [
    "IOError(\"Hello world\")"
   ]
  },
  {
   "cell_type": "code",
   "execution_count": 71,
   "id": "be0c60e2",
   "metadata": {},
   "outputs": [
    {
     "ename": "OSError",
     "evalue": "Hello world",
     "output_type": "error",
     "traceback": [
      "\u001b[0;31m---------------------------------------------------------------------------\u001b[0m",
      "\u001b[0;31mZeroDivisionError\u001b[0m                         Traceback (most recent call last)",
      "Input \u001b[0;32mIn [71]\u001b[0m, in \u001b[0;36m<cell line: 1>\u001b[0;34m()\u001b[0m\n\u001b[1;32m      1\u001b[0m \u001b[38;5;28;01mtry\u001b[39;00m:\n\u001b[0;32m----> 2\u001b[0m     \u001b[38;5;241;43m1\u001b[39;49m\u001b[38;5;241;43m/\u001b[39;49m\u001b[38;5;241;43m0\u001b[39;49m\n\u001b[1;32m      3\u001b[0m \u001b[38;5;28;01mexcept\u001b[39;00m:\n",
      "\u001b[0;31mZeroDivisionError\u001b[0m: division by zero",
      "\nDuring handling of the above exception, another exception occurred:\n",
      "\u001b[0;31mOSError\u001b[0m                                   Traceback (most recent call last)",
      "Input \u001b[0;32mIn [71]\u001b[0m, in \u001b[0;36m<cell line: 1>\u001b[0;34m()\u001b[0m\n\u001b[1;32m      2\u001b[0m     \u001b[38;5;241m1\u001b[39m\u001b[38;5;241m/\u001b[39m\u001b[38;5;241m0\u001b[39m\n\u001b[1;32m      3\u001b[0m \u001b[38;5;28;01mexcept\u001b[39;00m:\n\u001b[0;32m----> 4\u001b[0m     \u001b[38;5;28;01mraise\u001b[39;00m \u001b[38;5;167;01mIOError\u001b[39;00m(\u001b[38;5;124m\"\u001b[39m\u001b[38;5;124mHello world\u001b[39m\u001b[38;5;124m\"\u001b[39m)\n",
      "\u001b[0;31mOSError\u001b[0m: Hello world"
     ]
    }
   ],
   "source": [
    "try:\n",
    "    1/0\n",
    "except:\n",
    "    raise IOError(\"Hello world\")"
   ]
  },
  {
   "cell_type": "code",
   "execution_count": 66,
   "id": "daacc805",
   "metadata": {},
   "outputs": [
    {
     "ename": "ValueError",
     "evalue": "Cannot return member number (operation not supported for type class)",
     "output_type": "error",
     "traceback": [
      "\u001b[0;31m---------------------------------------------------------------------------\u001b[0m",
      "\u001b[0;31mValueError\u001b[0m                                Traceback (most recent call last)",
      "\u001b[0;31mValueError\u001b[0m: Cannot return member number (operation not supported for type class)"
     ]
    },
    {
     "name": "stderr",
     "output_type": "stream",
     "text": [
      "Exception ignored in: 'h5py._proxy.make_reduced_type'\n",
      "Traceback (most recent call last):\n",
      "  File \"/home/matthew/anaconda3/envs/emicro/lib/python3.9/site-packages/h5py/_hl/dataset.py\", line 982, in __setitem__\n",
      "    self.id.write(mspace, fspace, val, mtype, dxpl=self._dxpl)\n",
      "ValueError: Cannot return member number (operation not supported for type class)\n"
     ]
    },
    {
     "ename": "ValueError",
     "evalue": "Not a datatype (not a datatype)",
     "output_type": "error",
     "traceback": [
      "\u001b[0;31m---------------------------------------------------------------------------\u001b[0m",
      "\u001b[0;31mValueError\u001b[0m                                Traceback (most recent call last)",
      "Input \u001b[0;32mIn [66]\u001b[0m, in \u001b[0;36m<cell line: 1>\u001b[0;34m()\u001b[0m\n\u001b[0;32m----> 1\u001b[0m \u001b[43mdataset\u001b[49m\u001b[43m[\u001b[49m\u001b[43m:\u001b[49m\u001b[38;5;241;43m3\u001b[39;49m\u001b[43m]\u001b[49m \u001b[38;5;241m=\u001b[39m \u001b[38;5;241m1.2\u001b[39mj\u001b[38;5;241m*\u001b[39mnp\u001b[38;5;241m.\u001b[39marange(\u001b[38;5;241m3\u001b[39m)\n",
      "File \u001b[0;32mh5py/_objects.pyx:54\u001b[0m, in \u001b[0;36mh5py._objects.with_phil.wrapper\u001b[0;34m()\u001b[0m\n",
      "File \u001b[0;32mh5py/_objects.pyx:55\u001b[0m, in \u001b[0;36mh5py._objects.with_phil.wrapper\u001b[0;34m()\u001b[0m\n",
      "File \u001b[0;32m~/anaconda3/envs/emicro/lib/python3.9/site-packages/h5py/_hl/dataset.py:982\u001b[0m, in \u001b[0;36mDataset.__setitem__\u001b[0;34m(self, args, val)\u001b[0m\n\u001b[1;32m    980\u001b[0m mspace \u001b[38;5;241m=\u001b[39m h5s\u001b[38;5;241m.\u001b[39mcreate_simple(selection\u001b[38;5;241m.\u001b[39mexpand_shape(mshape))\n\u001b[1;32m    981\u001b[0m \u001b[38;5;28;01mfor\u001b[39;00m fspace \u001b[38;5;129;01min\u001b[39;00m selection\u001b[38;5;241m.\u001b[39mbroadcast(mshape):\n\u001b[0;32m--> 982\u001b[0m     \u001b[38;5;28;43mself\u001b[39;49m\u001b[38;5;241;43m.\u001b[39;49m\u001b[43mid\u001b[49m\u001b[38;5;241;43m.\u001b[39;49m\u001b[43mwrite\u001b[49m\u001b[43m(\u001b[49m\u001b[43mmspace\u001b[49m\u001b[43m,\u001b[49m\u001b[43m \u001b[49m\u001b[43mfspace\u001b[49m\u001b[43m,\u001b[49m\u001b[43m \u001b[49m\u001b[43mval\u001b[49m\u001b[43m,\u001b[49m\u001b[43m \u001b[49m\u001b[43mmtype\u001b[49m\u001b[43m,\u001b[49m\u001b[43m \u001b[49m\u001b[43mdxpl\u001b[49m\u001b[38;5;241;43m=\u001b[39;49m\u001b[38;5;28;43mself\u001b[39;49m\u001b[38;5;241;43m.\u001b[39;49m\u001b[43m_dxpl\u001b[49m\u001b[43m)\u001b[49m\n",
      "File \u001b[0;32mh5py/_objects.pyx:54\u001b[0m, in \u001b[0;36mh5py._objects.with_phil.wrapper\u001b[0;34m()\u001b[0m\n",
      "File \u001b[0;32mh5py/_objects.pyx:55\u001b[0m, in \u001b[0;36mh5py._objects.with_phil.wrapper\u001b[0;34m()\u001b[0m\n",
      "File \u001b[0;32mh5py/h5d.pyx:232\u001b[0m, in \u001b[0;36mh5py.h5d.DatasetID.write\u001b[0;34m()\u001b[0m\n",
      "File \u001b[0;32mh5py/_proxy.pyx:110\u001b[0m, in \u001b[0;36mh5py._proxy.dset_rw\u001b[0;34m()\u001b[0m\n",
      "File \u001b[0;32mh5py/_proxy.pyx:324\u001b[0m, in \u001b[0;36mh5py._proxy.needs_proxy\u001b[0;34m()\u001b[0m\n",
      "\u001b[0;31mValueError\u001b[0m: Not a datatype (not a datatype)"
     ]
    }
   ],
   "source": [
    "dataset[:3] = 1.2j*np.arange(3)"
   ]
  },
  {
   "cell_type": "code",
   "execution_count": 64,
   "id": "90eba9e3",
   "metadata": {},
   "outputs": [
    {
     "data": {
      "text/plain": [
       "array([0, 1, 2, 7, 4, 5, 6, 7, 8, 9])"
      ]
     },
     "execution_count": 64,
     "metadata": {},
     "output_type": "execute_result"
    }
   ],
   "source": [
    "dataset[:]"
   ]
  },
  {
   "cell_type": "code",
   "execution_count": 61,
   "id": "5e81169c",
   "metadata": {},
   "outputs": [
    {
     "ename": "ValueError",
     "evalue": "4 indexing arguments for 1 dimensions",
     "output_type": "error",
     "traceback": [
      "\u001b[0;31m---------------------------------------------------------------------------\u001b[0m",
      "\u001b[0;31mValueError\u001b[0m                                Traceback (most recent call last)",
      "Input \u001b[0;32mIn [61]\u001b[0m, in \u001b[0;36m<cell line: 1>\u001b[0;34m()\u001b[0m\n\u001b[0;32m----> 1\u001b[0m \u001b[43mdataset\u001b[49m\u001b[43m[\u001b[49m\u001b[38;5;241;43m0\u001b[39;49m\u001b[43m,\u001b[49m\u001b[43m \u001b[49m\u001b[38;5;241;43m0\u001b[39;49m\u001b[43m,\u001b[49m\u001b[43m \u001b[49m\u001b[38;5;241;43m0\u001b[39;49m\u001b[43m,\u001b[49m\u001b[43m \u001b[49m\u001b[43m:\u001b[49m\u001b[38;5;241;43m10\u001b[39;49m\u001b[43m]\u001b[49m\n",
      "File \u001b[0;32mh5py/_objects.pyx:54\u001b[0m, in \u001b[0;36mh5py._objects.with_phil.wrapper\u001b[0;34m()\u001b[0m\n",
      "File \u001b[0;32mh5py/_objects.pyx:55\u001b[0m, in \u001b[0;36mh5py._objects.with_phil.wrapper\u001b[0;34m()\u001b[0m\n",
      "File \u001b[0;32m~/anaconda3/envs/emicro/lib/python3.9/site-packages/h5py/_hl/dataset.py:741\u001b[0m, in \u001b[0;36mDataset.__getitem__\u001b[0;34m(self, args, new_dtype)\u001b[0m\n\u001b[1;32m    739\u001b[0m \u001b[38;5;28;01mif\u001b[39;00m \u001b[38;5;28mself\u001b[39m\u001b[38;5;241m.\u001b[39m_fast_read_ok \u001b[38;5;129;01mand\u001b[39;00m (new_dtype \u001b[38;5;129;01mis\u001b[39;00m \u001b[38;5;28;01mNone\u001b[39;00m):\n\u001b[1;32m    740\u001b[0m     \u001b[38;5;28;01mtry\u001b[39;00m:\n\u001b[0;32m--> 741\u001b[0m         \u001b[38;5;28;01mreturn\u001b[39;00m \u001b[38;5;28;43mself\u001b[39;49m\u001b[38;5;241;43m.\u001b[39;49m\u001b[43m_fast_reader\u001b[49m\u001b[38;5;241;43m.\u001b[39;49m\u001b[43mread\u001b[49m\u001b[43m(\u001b[49m\u001b[43margs\u001b[49m\u001b[43m)\u001b[49m\n\u001b[1;32m    742\u001b[0m     \u001b[38;5;28;01mexcept\u001b[39;00m \u001b[38;5;167;01mTypeError\u001b[39;00m:\n\u001b[1;32m    743\u001b[0m         \u001b[38;5;28;01mpass\u001b[39;00m  \u001b[38;5;66;03m# Fall back to Python read pathway below\u001b[39;00m\n",
      "File \u001b[0;32mh5py/_selector.pyx:355\u001b[0m, in \u001b[0;36mh5py._selector.Reader.read\u001b[0;34m()\u001b[0m\n",
      "File \u001b[0;32mh5py/_selector.pyx:107\u001b[0m, in \u001b[0;36mh5py._selector.Selector.apply_args\u001b[0;34m()\u001b[0m\n",
      "\u001b[0;31mValueError\u001b[0m: 4 indexing arguments for 1 dimensions"
     ]
    }
   ],
   "source": [
    "dataset[0, 0, 0, :10]"
   ]
  },
  {
   "cell_type": "code",
   "execution_count": 55,
   "id": "e659b36b",
   "metadata": {},
   "outputs": [],
   "source": [
    "dataset.file.close()"
   ]
  },
  {
   "cell_type": "code",
   "execution_count": 111,
   "id": "dbc19550",
   "metadata": {},
   "outputs": [],
   "source": [
    "file_obj = h5py.File(\"foo.h5\", \"r\")"
   ]
  },
  {
   "cell_type": "code",
   "execution_count": 112,
   "id": "c6ba95c7",
   "metadata": {},
   "outputs": [
    {
     "data": {
      "text/plain": [
       "<KeysViewHDF5 ['group-1-A']>"
      ]
     },
     "execution_count": 112,
     "metadata": {},
     "output_type": "execute_result"
    }
   ],
   "source": [
    "file_obj.keys()"
   ]
  },
  {
   "cell_type": "code",
   "execution_count": 113,
   "id": "95b3a826",
   "metadata": {},
   "outputs": [
    {
     "data": {
      "text/plain": [
       "<KeysViewHDF5 ['dataset-1-B']>"
      ]
     },
     "execution_count": 113,
     "metadata": {},
     "output_type": "execute_result"
    }
   ],
   "source": [
    "file_obj['group-1-A'].keys()"
   ]
  },
  {
   "cell_type": "code",
   "execution_count": 114,
   "id": "bc16e6a4",
   "metadata": {},
   "outputs": [],
   "source": [
    "file_obj.close()"
   ]
  },
  {
   "cell_type": "code",
   "execution_count": null,
   "id": "7bd7ba4b",
   "metadata": {},
   "outputs": [],
   "source": []
  },
  {
   "cell_type": "code",
   "execution_count": 101,
   "id": "14e518b7",
   "metadata": {},
   "outputs": [],
   "source": [
    "filename = \"foo.h5\"\n",
    "path_in_file = \"group-1-A/dataset-1-B\"\n",
    "dataset_id_1 = h5pywrappers.obj.ID(filename, path_in_file)\n",
    "\n",
    "filename = \"bar.h5\"\n",
    "path_in_file = \"group-2-A/dataset-2-A\"\n",
    "dataset_id_2 = h5pywrappers.obj.ID(filename, path_in_file)"
   ]
  },
  {
   "cell_type": "code",
   "execution_count": 102,
   "id": "7d568d48",
   "metadata": {},
   "outputs": [],
   "source": [
    "dataset_2 = h5pywrappers.dataset.load(dataset_id_2, read_only=True)"
   ]
  },
  {
   "cell_type": "code",
   "execution_count": 103,
   "id": "f6244108",
   "metadata": {},
   "outputs": [
    {
     "data": {
      "text/plain": [
       "array([0, 1, 2, 3, 4, 5, 6, 7, 8, 9])"
      ]
     },
     "execution_count": 103,
     "metadata": {},
     "output_type": "execute_result"
    }
   ],
   "source": [
    "dataset_2[:]"
   ]
  },
  {
   "cell_type": "code",
   "execution_count": 115,
   "id": "ff7a25a2",
   "metadata": {},
   "outputs": [
    {
     "ename": "ValueError",
     "evalue": "Not an id of a file object (not an ID of a file object)",
     "output_type": "error",
     "traceback": [
      "\u001b[0;31m---------------------------------------------------------------------------\u001b[0m",
      "\u001b[0;31mValueError\u001b[0m                                Traceback (most recent call last)",
      "Input \u001b[0;32mIn [115]\u001b[0m, in \u001b[0;36m<cell line: 1>\u001b[0;34m()\u001b[0m\n\u001b[0;32m----> 1\u001b[0m \u001b[43mdataset_2\u001b[49m\u001b[38;5;241;43m.\u001b[39;49m\u001b[43mfile\u001b[49m\u001b[38;5;241m.\u001b[39mclose()\n",
      "File \u001b[0;32m~/anaconda3/envs/emicro/lib/python3.9/site-packages/h5py/_hl/base.py:285\u001b[0m, in \u001b[0;36mHLObject.file\u001b[0;34m(self)\u001b[0m\n\u001b[1;32m    283\u001b[0m \u001b[38;5;28;01mfrom\u001b[39;00m \u001b[38;5;21;01m.\u001b[39;00m \u001b[38;5;28;01mimport\u001b[39;00m files\n\u001b[1;32m    284\u001b[0m \u001b[38;5;28;01mwith\u001b[39;00m phil:\n\u001b[0;32m--> 285\u001b[0m     \u001b[38;5;28;01mreturn\u001b[39;00m \u001b[43mfiles\u001b[49m\u001b[38;5;241;43m.\u001b[39;49m\u001b[43mFile\u001b[49m\u001b[43m(\u001b[49m\u001b[38;5;28;43mself\u001b[39;49m\u001b[38;5;241;43m.\u001b[39;49m\u001b[43mid\u001b[49m\u001b[43m)\u001b[49m\n",
      "File \u001b[0;32m~/anaconda3/envs/emicro/lib/python3.9/site-packages/h5py/_hl/files.py:497\u001b[0m, in \u001b[0;36mFile.__init__\u001b[0;34m(self, name, mode, driver, libver, userblock_size, swmr, rdcc_nslots, rdcc_nbytes, rdcc_w0, track_order, fs_strategy, fs_persist, fs_threshold, fs_page_size, page_buf_size, min_meta_keep, min_raw_keep, locking, alignment_threshold, alignment_interval, **kwds)\u001b[0m\n\u001b[1;32m    494\u001b[0m         \u001b[38;5;28;01mraise\u001b[39;00m \u001b[38;5;167;01mValueError\u001b[39;00m(\u001b[38;5;124m\"\u001b[39m\u001b[38;5;124mUnable to set file space strategy of an existing file\u001b[39m\u001b[38;5;124m\"\u001b[39m)\n\u001b[1;32m    496\u001b[0m     \u001b[38;5;28;01mwith\u001b[39;00m phil:\n\u001b[0;32m--> 497\u001b[0m         fid \u001b[38;5;241m=\u001b[39m \u001b[43mh5i\u001b[49m\u001b[38;5;241;43m.\u001b[39;49m\u001b[43mget_file_id\u001b[49m\u001b[43m(\u001b[49m\u001b[43mname\u001b[49m\u001b[43m)\u001b[49m\n\u001b[1;32m    498\u001b[0m \u001b[38;5;28;01melse\u001b[39;00m:\n\u001b[1;32m    499\u001b[0m     \u001b[38;5;28;01mif\u001b[39;00m \u001b[38;5;28mhasattr\u001b[39m(name, \u001b[38;5;124m'\u001b[39m\u001b[38;5;124mread\u001b[39m\u001b[38;5;124m'\u001b[39m) \u001b[38;5;129;01mand\u001b[39;00m \u001b[38;5;28mhasattr\u001b[39m(name, \u001b[38;5;124m'\u001b[39m\u001b[38;5;124mseek\u001b[39m\u001b[38;5;124m'\u001b[39m):\n",
      "File \u001b[0;32mh5py/_objects.pyx:54\u001b[0m, in \u001b[0;36mh5py._objects.with_phil.wrapper\u001b[0;34m()\u001b[0m\n",
      "File \u001b[0;32mh5py/_objects.pyx:55\u001b[0m, in \u001b[0;36mh5py._objects.with_phil.wrapper\u001b[0;34m()\u001b[0m\n",
      "File \u001b[0;32mh5py/h5i.pyx:117\u001b[0m, in \u001b[0;36mh5py.h5i.get_file_id\u001b[0;34m()\u001b[0m\n",
      "\u001b[0;31mValueError\u001b[0m: Not an id of a file object (not an ID of a file object)"
     ]
    }
   ],
   "source": [
    "dataset_2.file.close()"
   ]
  },
  {
   "cell_type": "code",
   "execution_count": 109,
   "id": "a76739d5",
   "metadata": {},
   "outputs": [],
   "source": [
    "h5pywrappers.dataset.save(dataset_2, dataset_id_1, write_mode=\"w\")"
   ]
  },
  {
   "cell_type": "code",
   "execution_count": null,
   "id": "812b7459",
   "metadata": {},
   "outputs": [],
   "source": []
  },
  {
   "cell_type": "code",
   "execution_count": 29,
   "id": "0d5bbb75",
   "metadata": {},
   "outputs": [
    {
     "data": {
      "text/plain": [
       "<HDF5 dataset \"test-dataset\": shape (10,), type \"<i8\">"
      ]
     },
     "execution_count": 29,
     "metadata": {},
     "output_type": "execute_result"
    }
   ],
   "source": [
    "obj.create_dataset(\"test-dataset\", data=np.arange(5, 15))"
   ]
  },
  {
   "cell_type": "code",
   "execution_count": 30,
   "id": "d6924448",
   "metadata": {},
   "outputs": [],
   "source": [
    "obj.file.close()"
   ]
  },
  {
   "cell_type": "code",
   "execution_count": null,
   "id": "cd040ece",
   "metadata": {},
   "outputs": [],
   "source": [
    "filename = \"foo.h5\"\n",
    "path_in_file = \"group-1-A\"\n",
    "obj_id = h5pywrappers.obj.ID(filename, path_in_file)\n",
    "\n",
    "obj = h5pywrappers.obj.load(obj_id, read_only=False)"
   ]
  },
  {
   "cell_type": "code",
   "execution_count": null,
   "id": "fb4337a8",
   "metadata": {},
   "outputs": [],
   "source": [
    "filename = \"foo.h5\"\n",
    "path_in_file = \"group-1-A/dataset-1-A\"\n",
    "with h5py.File(filename, \"a\") as file_obj_2:\n",
    "    dataset = file_obj_2[path_in_file]\n",
    "    print(dataset.dtype)"
   ]
  },
  {
   "cell_type": "code",
   "execution_count": null,
   "id": "d2f7049f",
   "metadata": {},
   "outputs": [],
   "source": []
  },
  {
   "cell_type": "code",
   "execution_count": 2,
   "id": "5bdd09c4",
   "metadata": {},
   "outputs": [],
   "source": [
    "# Insert code here."
   ]
  },
  {
   "cell_type": "code",
   "execution_count": 2,
   "id": "9c822769",
   "metadata": {},
   "outputs": [],
   "source": [
    "h5pywrappers.file.generator_1(\"foo.h5\", overwrite=True)"
   ]
  },
  {
   "cell_type": "code",
   "execution_count": 3,
   "id": "d7b8820d",
   "metadata": {},
   "outputs": [],
   "source": [
    "filename = \"foo.h5\"\n",
    "path_in_file = \"group-1-A\"\n",
    "obj_id = h5pywrappers.obj.ID(filename, path_in_file)"
   ]
  },
  {
   "cell_type": "code",
   "execution_count": 4,
   "id": "f1e1f8dc",
   "metadata": {},
   "outputs": [],
   "source": [
    "obj = h5pywrappers.obj.load(obj_id)"
   ]
  },
  {
   "cell_type": "code",
   "execution_count": 5,
   "id": "7d12cd99",
   "metadata": {},
   "outputs": [
    {
     "data": {
      "text/plain": [
       "<KeysViewHDF5 ['dataset-1-A', 'scalar-1-A']>"
      ]
     },
     "execution_count": 5,
     "metadata": {},
     "output_type": "execute_result"
    }
   ],
   "source": [
    "obj.keys()"
   ]
  },
  {
   "cell_type": "code",
   "execution_count": 6,
   "id": "7a44eeb6",
   "metadata": {},
   "outputs": [
    {
     "data": {
      "text/plain": [
       "<HDF5 dataset \"scalar-1-A\": shape (), type \"<f8\">"
      ]
     },
     "execution_count": 6,
     "metadata": {},
     "output_type": "execute_result"
    }
   ],
   "source": [
    "obj['scalar-1-A']"
   ]
  },
  {
   "cell_type": "code",
   "execution_count": 7,
   "id": "3c90af1f",
   "metadata": {},
   "outputs": [],
   "source": [
    "obj.file.close()"
   ]
  },
  {
   "cell_type": "code",
   "execution_count": 9,
   "id": "b8a35a92",
   "metadata": {},
   "outputs": [
    {
     "data": {
      "text/plain": [
       "<Closed HDF5 group>"
      ]
     },
     "execution_count": 9,
     "metadata": {},
     "output_type": "execute_result"
    }
   ],
   "source": [
    "obj"
   ]
  },
  {
   "cell_type": "code",
   "execution_count": 126,
   "id": "379c79e0",
   "metadata": {},
   "outputs": [],
   "source": [
    "filename = \"bar.h5\"\n",
    "path_in_file = \"group-2-A/scalar-2-A\"\n",
    "scalar_id = h5pywrappers.obj.ID(filename, path_in_file)"
   ]
  },
  {
   "cell_type": "code",
   "execution_count": 127,
   "id": "84430bd1",
   "metadata": {},
   "outputs": [],
   "source": [
    "scalar = h5pywrappers.scalar.load(scalar_id)"
   ]
  },
  {
   "cell_type": "code",
   "execution_count": 128,
   "id": "5767af8a",
   "metadata": {},
   "outputs": [
    {
     "data": {
      "text/plain": [
       "0.5j"
      ]
     },
     "execution_count": 128,
     "metadata": {},
     "output_type": "execute_result"
    }
   ],
   "source": [
    "scalar"
   ]
  },
  {
   "cell_type": "code",
   "execution_count": 13,
   "id": "94032fff",
   "metadata": {},
   "outputs": [],
   "source": [
    "filename = \"foo.h5\"\n",
    "path_in_file = \"group-1-A/dataset-1-A\"\n",
    "dataset_id = h5pywrappers.obj.ID(filename, path_in_file)"
   ]
  },
  {
   "cell_type": "code",
   "execution_count": 14,
   "id": "51df3a21",
   "metadata": {},
   "outputs": [],
   "source": [
    "dataset = h5pywrappers.dataset.load(dataset_id)"
   ]
  },
  {
   "cell_type": "code",
   "execution_count": 15,
   "id": "36c7e163",
   "metadata": {},
   "outputs": [
    {
     "data": {
      "text/plain": [
       "<HDF5 dataset \"dataset-1-A\": shape (12, 9, 128, 150), type \"<f8\">"
      ]
     },
     "execution_count": 15,
     "metadata": {},
     "output_type": "execute_result"
    }
   ],
   "source": [
    "dataset"
   ]
  },
  {
   "cell_type": "code",
   "execution_count": 16,
   "id": "eec4bb1b",
   "metadata": {},
   "outputs": [
    {
     "data": {
      "text/plain": [
       "dtype('<f8')"
      ]
     },
     "execution_count": 16,
     "metadata": {},
     "output_type": "execute_result"
    }
   ],
   "source": [
    "dataset.dtype"
   ]
  },
  {
   "cell_type": "code",
   "execution_count": 17,
   "id": "6f57b1c7",
   "metadata": {},
   "outputs": [],
   "source": [
    "dataset.file.close()"
   ]
  },
  {
   "cell_type": "code",
   "execution_count": 18,
   "id": "911b1999",
   "metadata": {},
   "outputs": [
    {
     "data": {
      "text/plain": [
       "<Closed HDF5 dataset>"
      ]
     },
     "execution_count": 18,
     "metadata": {},
     "output_type": "execute_result"
    }
   ],
   "source": [
    "dataset"
   ]
  },
  {
   "cell_type": "code",
   "execution_count": 19,
   "id": "f642146d",
   "metadata": {},
   "outputs": [],
   "source": [
    "filename = \"foo.h5\"\n",
    "path_in_file = \"group-1-A/dataset-1-A\"\n",
    "file_obj_1 = h5py.File(filename, \"a\")\n",
    "file_obj_2 = h5py.File(filename, \"r\")"
   ]
  },
  {
   "cell_type": "code",
   "execution_count": 20,
   "id": "a19c3cfe",
   "metadata": {},
   "outputs": [],
   "source": [
    "file_obj_1.close()"
   ]
  },
  {
   "cell_type": "code",
   "execution_count": 21,
   "id": "5a4b06a5",
   "metadata": {},
   "outputs": [
    {
     "data": {
      "text/plain": [
       "<Closed HDF5 file>"
      ]
     },
     "execution_count": 21,
     "metadata": {},
     "output_type": "execute_result"
    }
   ],
   "source": [
    "file_obj_1"
   ]
  },
  {
   "cell_type": "code",
   "execution_count": 22,
   "id": "9c123ebb",
   "metadata": {},
   "outputs": [
    {
     "data": {
      "text/plain": [
       "<HDF5 file \"foo.h5\" (mode r+)>"
      ]
     },
     "execution_count": 22,
     "metadata": {},
     "output_type": "execute_result"
    }
   ],
   "source": [
    "file_obj_2"
   ]
  },
  {
   "cell_type": "code",
   "execution_count": 6,
   "id": "865b751f",
   "metadata": {},
   "outputs": [
    {
     "name": "stdout",
     "output_type": "stream",
     "text": [
      "float64\n"
     ]
    },
    {
     "ename": "ValueError",
     "evalue": "could not convert string to float: 'd'",
     "output_type": "error",
     "traceback": [
      "\u001b[0;31m---------------------------------------------------------------------------\u001b[0m",
      "\u001b[0;31mValueError\u001b[0m                                Traceback (most recent call last)",
      "Input \u001b[0;32mIn [6]\u001b[0m, in \u001b[0;36m<cell line: 3>\u001b[0;34m()\u001b[0m\n\u001b[1;32m      4\u001b[0m dataset \u001b[38;5;241m=\u001b[39m file_obj_2[path_in_file]\n\u001b[1;32m      5\u001b[0m \u001b[38;5;28mprint\u001b[39m(dataset\u001b[38;5;241m.\u001b[39mdtype)\n\u001b[0;32m----> 6\u001b[0m \u001b[43mdataset\u001b[49m\u001b[43m[\u001b[49m\u001b[38;5;241;43m0\u001b[39;49m\u001b[43m,\u001b[49m\u001b[43m \u001b[49m\u001b[38;5;241;43m0\u001b[39;49m\u001b[43m,\u001b[49m\u001b[43m \u001b[49m\u001b[38;5;241;43m0\u001b[39;49m\u001b[43m,\u001b[49m\u001b[43m \u001b[49m\u001b[38;5;241;43m0\u001b[39;49m\u001b[43m]\u001b[49m \u001b[38;5;241m=\u001b[39m \u001b[38;5;124m\"\u001b[39m\u001b[38;5;124md\u001b[39m\u001b[38;5;124m\"\u001b[39m\n",
      "File \u001b[0;32mh5py/_objects.pyx:54\u001b[0m, in \u001b[0;36mh5py._objects.with_phil.wrapper\u001b[0;34m()\u001b[0m\n",
      "File \u001b[0;32mh5py/_objects.pyx:55\u001b[0m, in \u001b[0;36mh5py._objects.with_phil.wrapper\u001b[0;34m()\u001b[0m\n",
      "File \u001b[0;32m~/anaconda3/envs/emicro/lib/python3.9/site-packages/h5py/_hl/dataset.py:902\u001b[0m, in \u001b[0;36mDataset.__setitem__\u001b[0;34m(self, args, val)\u001b[0m\n\u001b[1;32m    898\u001b[0m \u001b[38;5;28;01melse\u001b[39;00m:\n\u001b[1;32m    899\u001b[0m     \u001b[38;5;66;03m# If the input data is already an array, let HDF5 do the conversion.\u001b[39;00m\n\u001b[1;32m    900\u001b[0m     \u001b[38;5;66;03m# If it's a list or similar, don't make numpy guess a dtype for it.\u001b[39;00m\n\u001b[1;32m    901\u001b[0m     dt \u001b[38;5;241m=\u001b[39m \u001b[38;5;28;01mNone\u001b[39;00m \u001b[38;5;28;01mif\u001b[39;00m \u001b[38;5;28misinstance\u001b[39m(val, numpy\u001b[38;5;241m.\u001b[39mndarray) \u001b[38;5;28;01melse\u001b[39;00m \u001b[38;5;28mself\u001b[39m\u001b[38;5;241m.\u001b[39mdtype\u001b[38;5;241m.\u001b[39mbase\n\u001b[0;32m--> 902\u001b[0m     val \u001b[38;5;241m=\u001b[39m \u001b[43mnumpy\u001b[49m\u001b[38;5;241;43m.\u001b[39;49m\u001b[43masarray\u001b[49m\u001b[43m(\u001b[49m\u001b[43mval\u001b[49m\u001b[43m,\u001b[49m\u001b[43m \u001b[49m\u001b[43morder\u001b[49m\u001b[38;5;241;43m=\u001b[39;49m\u001b[38;5;124;43m'\u001b[39;49m\u001b[38;5;124;43mC\u001b[39;49m\u001b[38;5;124;43m'\u001b[39;49m\u001b[43m,\u001b[49m\u001b[43m \u001b[49m\u001b[43mdtype\u001b[49m\u001b[38;5;241;43m=\u001b[39;49m\u001b[43mdt\u001b[49m\u001b[43m)\u001b[49m\n\u001b[1;32m    904\u001b[0m \u001b[38;5;66;03m# Check for array dtype compatibility and convert\u001b[39;00m\n\u001b[1;32m    905\u001b[0m \u001b[38;5;28;01mif\u001b[39;00m \u001b[38;5;28mself\u001b[39m\u001b[38;5;241m.\u001b[39mdtype\u001b[38;5;241m.\u001b[39msubdtype \u001b[38;5;129;01mis\u001b[39;00m \u001b[38;5;129;01mnot\u001b[39;00m \u001b[38;5;28;01mNone\u001b[39;00m:\n",
      "\u001b[0;31mValueError\u001b[0m: could not convert string to float: 'd'"
     ]
    }
   ],
   "source": [
    "filename = \"foo.h5\"\n",
    "path_in_file = \"group-1-A/dataset-1-A\"\n",
    "with h5py.File(filename, \"a\") as file_obj_2:\n",
    "    dataset = file_obj_2[path_in_file]\n",
    "    print(dataset.dtype)"
   ]
  },
  {
   "cell_type": "code",
   "execution_count": 30,
   "id": "d09d030d",
   "metadata": {},
   "outputs": [],
   "source": [
    "file_obj_1.close()\n",
    "file_obj_2.close()"
   ]
  },
  {
   "cell_type": "code",
   "execution_count": 18,
   "id": "35839beb",
   "metadata": {},
   "outputs": [],
   "source": [
    "attr_name = \"was_randomly_generated\"\n",
    "attr_id = h5pywrappers.attr.ID(obj_id=dataset_id, \n",
    "                               attr_name=attr_name)"
   ]
  },
  {
   "cell_type": "code",
   "execution_count": 15,
   "id": "1ce0f61b",
   "metadata": {},
   "outputs": [],
   "source": [
    "attr = h5pywrappers.attr.load(attr_id)"
   ]
  },
  {
   "cell_type": "code",
   "execution_count": 16,
   "id": "9ddae0ac",
   "metadata": {},
   "outputs": [
    {
     "data": {
      "text/plain": [
       "'False'"
      ]
     },
     "execution_count": 16,
     "metadata": {},
     "output_type": "execute_result"
    }
   ],
   "source": [
    "attr"
   ]
  },
  {
   "cell_type": "code",
   "execution_count": 19,
   "id": "4bc813db",
   "metadata": {},
   "outputs": [
    {
     "ename": "ValueError",
     "evalue": "No HDF5 object was found at the HDF5 path ``'group-1-A/dataset-1-B'`` of the HDF5 file at the file path``'foo.h5'``.",
     "output_type": "error",
     "traceback": [
      "\u001b[0;31m---------------------------------------------------------------------------\u001b[0m",
      "\u001b[0;31mValueError\u001b[0m                                Traceback (most recent call last)",
      "Input \u001b[0;32mIn [19]\u001b[0m, in \u001b[0;36m<cell line: 1>\u001b[0;34m()\u001b[0m\n\u001b[0;32m----> 1\u001b[0m \u001b[43mh5pywrappers\u001b[49m\u001b[38;5;241;43m.\u001b[39;49m\u001b[43mattr\u001b[49m\u001b[38;5;241;43m.\u001b[39;49m\u001b[43msave\u001b[49m\u001b[43m(\u001b[49m\u001b[38;5;124;43m\"\u001b[39;49m\u001b[38;5;124;43mTrue\u001b[39;49m\u001b[38;5;124;43m\"\u001b[39;49m\u001b[43m,\u001b[49m\u001b[43m \u001b[49m\u001b[43mattr_id\u001b[49m\u001b[43m,\u001b[49m\u001b[43m \u001b[49m\u001b[43mwrite_mode\u001b[49m\u001b[38;5;241;43m=\u001b[39;49m\u001b[38;5;124;43m\"\u001b[39;49m\u001b[38;5;124;43ma\u001b[39;49m\u001b[38;5;124;43m\"\u001b[39;49m\u001b[43m)\u001b[49m\n",
      "File \u001b[0;32m~/anaconda3/envs/emicro/lib/python3.9/site-packages/h5pywrappers/attr.py:187\u001b[0m, in \u001b[0;36msave\u001b[0;34m(attr, attr_id, write_mode)\u001b[0m\n\u001b[1;32m    185\u001b[0m obj_id \u001b[38;5;241m=\u001b[39m attr_id\u001b[38;5;241m.\u001b[39mcore_attrs[\u001b[38;5;124m\"\u001b[39m\u001b[38;5;124mobj_id\u001b[39m\u001b[38;5;124m\"\u001b[39m]\n\u001b[1;32m    186\u001b[0m h5pywrappers\u001b[38;5;241m.\u001b[39mobj\u001b[38;5;241m.\u001b[39m_pre_save(obj_id)\n\u001b[0;32m--> 187\u001b[0m obj \u001b[38;5;241m=\u001b[39m \u001b[43mh5pywrappers\u001b[49m\u001b[38;5;241;43m.\u001b[39;49m\u001b[43mobj\u001b[49m\u001b[38;5;241;43m.\u001b[39;49m\u001b[43mload\u001b[49m\u001b[43m(\u001b[49m\u001b[43mobj_id\u001b[49m\u001b[43m,\u001b[49m\u001b[43m \u001b[49m\u001b[43mread_only\u001b[49m\u001b[38;5;241;43m=\u001b[39;49m\u001b[38;5;28;43;01mFalse\u001b[39;49;00m\u001b[43m)\u001b[49m\n\u001b[1;32m    189\u001b[0m attr_name \u001b[38;5;241m=\u001b[39m attr_id\u001b[38;5;241m.\u001b[39mcore_attrs[\u001b[38;5;124m\"\u001b[39m\u001b[38;5;124mattr_name\u001b[39m\u001b[38;5;124m\"\u001b[39m]\n\u001b[1;32m    190\u001b[0m filename \u001b[38;5;241m=\u001b[39m obj_id\u001b[38;5;241m.\u001b[39mcore_attrs[\u001b[38;5;124m\"\u001b[39m\u001b[38;5;124mfilename\u001b[39m\u001b[38;5;124m\"\u001b[39m]\n",
      "File \u001b[0;32m~/anaconda3/envs/emicro/lib/python3.9/site-packages/h5pywrappers/obj.py:195\u001b[0m, in \u001b[0;36mload\u001b[0;34m(obj_id, read_only)\u001b[0m\n\u001b[1;32m    170\u001b[0m \u001b[38;5;28;01mdef\u001b[39;00m \u001b[38;5;21mload\u001b[39m(obj_id, read_only\u001b[38;5;241m=\u001b[39m\u001b[38;5;28;01mTrue\u001b[39;00m):\n\u001b[1;32m    171\u001b[0m     \u001b[38;5;124mr\u001b[39m\u001b[38;5;124;03m\"\"\"Load an HDF5 object from an HDF5 file.\u001b[39;00m\n\u001b[1;32m    172\u001b[0m \n\u001b[1;32m    173\u001b[0m \u001b[38;5;124;03m    Note that users can access the HDF5 file object to which the HDF5 object of\u001b[39;00m\n\u001b[0;32m   (...)\u001b[0m\n\u001b[1;32m    193\u001b[0m \n\u001b[1;32m    194\u001b[0m \u001b[38;5;124;03m    \"\"\"\u001b[39;00m\n\u001b[0;32m--> 195\u001b[0m     read_only \u001b[38;5;241m=\u001b[39m \u001b[43m_pre_load\u001b[49m\u001b[43m(\u001b[49m\u001b[43mobj_id\u001b[49m\u001b[43m,\u001b[49m\u001b[43m \u001b[49m\u001b[43mread_only\u001b[49m\u001b[43m)\u001b[49m\n\u001b[1;32m    197\u001b[0m     filename \u001b[38;5;241m=\u001b[39m obj_id\u001b[38;5;241m.\u001b[39mcore_attrs[\u001b[38;5;124m\"\u001b[39m\u001b[38;5;124mfilename\u001b[39m\u001b[38;5;124m\"\u001b[39m]\n\u001b[1;32m    198\u001b[0m     path_in_file \u001b[38;5;241m=\u001b[39m obj_id\u001b[38;5;241m.\u001b[39mcore_attrs[\u001b[38;5;124m\"\u001b[39m\u001b[38;5;124mpath_in_file\u001b[39m\u001b[38;5;124m\"\u001b[39m]\n",
      "File \u001b[0;32m~/anaconda3/envs/emicro/lib/python3.9/site-packages/h5pywrappers/obj.py:248\u001b[0m, in \u001b[0;36m_pre_load\u001b[0;34m(obj_id, read_only)\u001b[0m\n\u001b[1;32m    246\u001b[0m     \u001b[38;5;28;01mif\u001b[39;00m path_in_file \u001b[38;5;129;01mnot\u001b[39;00m \u001b[38;5;129;01min\u001b[39;00m file_obj:\n\u001b[1;32m    247\u001b[0m         err_msg \u001b[38;5;241m=\u001b[39m _check_pre_load_err_msg_4\u001b[38;5;241m.\u001b[39mformat(path_in_file, filename)\n\u001b[0;32m--> 248\u001b[0m         \u001b[38;5;28;01mraise\u001b[39;00m \u001b[38;5;167;01mValueError\u001b[39;00m(err_msg)\n\u001b[1;32m    250\u001b[0m \u001b[38;5;28;01mreturn\u001b[39;00m read_only\n",
      "\u001b[0;31mValueError\u001b[0m: No HDF5 object was found at the HDF5 path ``'group-1-A/dataset-1-B'`` of the HDF5 file at the file path``'foo.h5'``."
     ]
    }
   ],
   "source": [
    "h5pywrappers.attr.save(\"True\", attr_id, write_mode=\"a\")"
   ]
  },
  {
   "cell_type": "code",
   "execution_count": null,
   "id": "270126e1",
   "metadata": {},
   "outputs": [],
   "source": []
  },
  {
   "cell_type": "code",
   "execution_count": 22,
   "id": "f811abca",
   "metadata": {},
   "outputs": [],
   "source": [
    "filename = \"foo.h5\"\n",
    "path_in_file = \"group-1-B/json-document-1-B\"\n",
    "json_document_id = h5pywrappers.obj.ID(filename, path_in_file)"
   ]
  },
  {
   "cell_type": "code",
   "execution_count": 23,
   "id": "fbf40539",
   "metadata": {},
   "outputs": [],
   "source": [
    "json_document = h5pywrappers.json.document.load(json_document_id)"
   ]
  },
  {
   "cell_type": "code",
   "execution_count": 24,
   "id": "5c37e4a4",
   "metadata": {},
   "outputs": [
    {
     "data": {
      "text/plain": [
       "{'a': 1, 'b': 2, 'c': 3}"
      ]
     },
     "execution_count": 24,
     "metadata": {},
     "output_type": "execute_result"
    }
   ],
   "source": [
    "json_document"
   ]
  },
  {
   "cell_type": "code",
   "execution_count": null,
   "id": "10af170a",
   "metadata": {},
   "outputs": [],
   "source": []
  }
 ],
 "metadata": {
  "kernelspec": {
   "display_name": "Python 3 (ipykernel)",
   "language": "python",
   "name": "python3"
  },
  "language_info": {
   "codemirror_mode": {
    "name": "ipython",
    "version": 3
   },
   "file_extension": ".py",
   "mimetype": "text/x-python",
   "name": "python",
   "nbconvert_exporter": "python",
   "pygments_lexer": "ipython3",
   "version": "3.9.17"
  }
 },
 "nbformat": 4,
 "nbformat_minor": 5
}
